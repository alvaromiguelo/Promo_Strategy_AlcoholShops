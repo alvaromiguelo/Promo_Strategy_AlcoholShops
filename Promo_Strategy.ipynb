{
 "cells": [
  {
   "cell_type": "markdown",
   "id": "a333dea1-c996-48a6-ac11-8b5a9f533020",
   "metadata": {},
   "source": [
    "## Objective\n",
    "\n",
    "Background\n",
    "\n",
    "Your company owns a chain of stores across Russia that sell a variety of types of alcohol. The company recently ran a wine promotion in Saint Petersburg that was very successful. Due to the cost to the business, it isn’t possible to run the promotion in all regions. The marketing team would like to target 10 other regions that have similar buying habits to Saint Petersburg where they would expect the promotion to be similarly successful.\n",
    "\n",
    "Challenge\n",
    "\n",
    "- Recommend 10 additional regions they should select for the promotion."
   ]
  },
  {
   "cell_type": "markdown",
   "id": "9d49a71c-0593-4a33-aaea-4bc69ad8f4f5",
   "metadata": {},
   "source": [
    "## Importing Libraries"
   ]
  },
  {
   "cell_type": "code",
   "execution_count": 86,
   "id": "d4262338-bf97-455b-9cf8-6a40fb75c531",
   "metadata": {},
   "outputs": [],
   "source": [
    "import pandas as pd\n",
    "import numpy as np\n",
    "import matplotlib.pyplot as plt\n",
    "import seaborn as sns\n",
    "from sklearn.preprocessing import StandardScaler\n",
    "from sklearn.decomposition import PCA"
   ]
  },
  {
   "cell_type": "markdown",
   "id": "4996097b-1657-4c7c-ad7c-2333aaaa0c44",
   "metadata": {},
   "source": [
    "Open your csv and check which variables we are working on"
   ]
  },
  {
   "cell_type": "code",
   "execution_count": 61,
   "id": "08b6ea61-fcb5-4f8d-a0fd-6b9cb57f62a1",
   "metadata": {
    "collapsed": true,
    "jupyter": {
     "outputs_hidden": true
    },
    "tags": []
   },
   "outputs": [
    {
     "data": {
      "text/html": [
       "<div>\n",
       "<style scoped>\n",
       "    .dataframe tbody tr th:only-of-type {\n",
       "        vertical-align: middle;\n",
       "    }\n",
       "\n",
       "    .dataframe tbody tr th {\n",
       "        vertical-align: top;\n",
       "    }\n",
       "\n",
       "    .dataframe thead th {\n",
       "        text-align: right;\n",
       "    }\n",
       "</style>\n",
       "<table border=\"1\" class=\"dataframe\">\n",
       "  <thead>\n",
       "    <tr style=\"text-align: right;\">\n",
       "      <th></th>\n",
       "      <th>year</th>\n",
       "      <th>region</th>\n",
       "      <th>wine</th>\n",
       "      <th>beer</th>\n",
       "      <th>vodka</th>\n",
       "      <th>champagne</th>\n",
       "      <th>brandy</th>\n",
       "    </tr>\n",
       "  </thead>\n",
       "  <tbody>\n",
       "    <tr>\n",
       "      <th>0</th>\n",
       "      <td>1998</td>\n",
       "      <td>Republic of Adygea</td>\n",
       "      <td>1.9</td>\n",
       "      <td>8.8</td>\n",
       "      <td>3.4</td>\n",
       "      <td>0.3</td>\n",
       "      <td>0.1</td>\n",
       "    </tr>\n",
       "    <tr>\n",
       "      <th>1</th>\n",
       "      <td>1998</td>\n",
       "      <td>Altai Krai</td>\n",
       "      <td>3.3</td>\n",
       "      <td>19.2</td>\n",
       "      <td>11.3</td>\n",
       "      <td>1.1</td>\n",
       "      <td>0.1</td>\n",
       "    </tr>\n",
       "    <tr>\n",
       "      <th>2</th>\n",
       "      <td>1998</td>\n",
       "      <td>Amur Oblast</td>\n",
       "      <td>2.1</td>\n",
       "      <td>21.2</td>\n",
       "      <td>17.3</td>\n",
       "      <td>0.7</td>\n",
       "      <td>0.4</td>\n",
       "    </tr>\n",
       "    <tr>\n",
       "      <th>3</th>\n",
       "      <td>1998</td>\n",
       "      <td>Arkhangelsk Oblast</td>\n",
       "      <td>4.3</td>\n",
       "      <td>10.6</td>\n",
       "      <td>11.7</td>\n",
       "      <td>0.4</td>\n",
       "      <td>0.3</td>\n",
       "    </tr>\n",
       "    <tr>\n",
       "      <th>4</th>\n",
       "      <td>1998</td>\n",
       "      <td>Astrakhan Oblast</td>\n",
       "      <td>2.9</td>\n",
       "      <td>18.0</td>\n",
       "      <td>9.5</td>\n",
       "      <td>0.8</td>\n",
       "      <td>0.2</td>\n",
       "    </tr>\n",
       "  </tbody>\n",
       "</table>\n",
       "</div>"
      ],
      "text/plain": [
       "   year              region  wine  beer  vodka  champagne  brandy\n",
       "0  1998  Republic of Adygea   1.9   8.8    3.4        0.3     0.1\n",
       "1  1998          Altai Krai   3.3  19.2   11.3        1.1     0.1\n",
       "2  1998         Amur Oblast   2.1  21.2   17.3        0.7     0.4\n",
       "3  1998  Arkhangelsk Oblast   4.3  10.6   11.7        0.4     0.3\n",
       "4  1998    Astrakhan Oblast   2.9  18.0    9.5        0.8     0.2"
      ]
     },
     "execution_count": 61,
     "metadata": {},
     "output_type": "execute_result"
    }
   ],
   "source": [
    "df = pd.read_csv('russian_alcohol_consumption.csv')\n",
    "df.head()"
   ]
  },
  {
   "cell_type": "markdown",
   "id": "eaf6a128-a5c4-458c-9155-2418c8b664c6",
   "metadata": {},
   "source": [
    "It's very useful if you could check brief description about the numerical variables in the dataset"
   ]
  },
  {
   "cell_type": "code",
   "execution_count": 176,
   "id": "2f35f59a-37af-44c6-a130-00237553d7a8",
   "metadata": {},
   "outputs": [
    {
     "data": {
      "text/html": [
       "<div>\n",
       "<style scoped>\n",
       "    .dataframe tbody tr th:only-of-type {\n",
       "        vertical-align: middle;\n",
       "    }\n",
       "\n",
       "    .dataframe tbody tr th {\n",
       "        vertical-align: top;\n",
       "    }\n",
       "\n",
       "    .dataframe thead th {\n",
       "        text-align: right;\n",
       "    }\n",
       "</style>\n",
       "<table border=\"1\" class=\"dataframe\">\n",
       "  <thead>\n",
       "    <tr style=\"text-align: right;\">\n",
       "      <th></th>\n",
       "      <th>year</th>\n",
       "      <th>wine</th>\n",
       "      <th>beer</th>\n",
       "      <th>vodka</th>\n",
       "      <th>champagne</th>\n",
       "      <th>brandy</th>\n",
       "    </tr>\n",
       "  </thead>\n",
       "  <tbody>\n",
       "    <tr>\n",
       "      <th>count</th>\n",
       "      <td>1549.000000</td>\n",
       "      <td>1549.000000</td>\n",
       "      <td>1549.000000</td>\n",
       "      <td>1549.000000</td>\n",
       "      <td>1549.000000</td>\n",
       "      <td>1549.000000</td>\n",
       "    </tr>\n",
       "    <tr>\n",
       "      <th>mean</th>\n",
       "      <td>2007.019367</td>\n",
       "      <td>5.638528</td>\n",
       "      <td>51.517205</td>\n",
       "      <td>11.854939</td>\n",
       "      <td>1.315526</td>\n",
       "      <td>0.526998</td>\n",
       "    </tr>\n",
       "    <tr>\n",
       "      <th>std</th>\n",
       "      <td>5.489208</td>\n",
       "      <td>2.806004</td>\n",
       "      <td>25.183890</td>\n",
       "      <td>5.097104</td>\n",
       "      <td>0.796938</td>\n",
       "      <td>0.400201</td>\n",
       "    </tr>\n",
       "    <tr>\n",
       "      <th>min</th>\n",
       "      <td>1998.000000</td>\n",
       "      <td>0.100000</td>\n",
       "      <td>1.000000</td>\n",
       "      <td>0.400000</td>\n",
       "      <td>0.100000</td>\n",
       "      <td>0.000000</td>\n",
       "    </tr>\n",
       "    <tr>\n",
       "      <th>25%</th>\n",
       "      <td>2002.000000</td>\n",
       "      <td>3.600000</td>\n",
       "      <td>32.600000</td>\n",
       "      <td>8.400000</td>\n",
       "      <td>0.800000</td>\n",
       "      <td>0.200000</td>\n",
       "    </tr>\n",
       "    <tr>\n",
       "      <th>50%</th>\n",
       "      <td>2007.000000</td>\n",
       "      <td>5.400000</td>\n",
       "      <td>50.100000</td>\n",
       "      <td>11.500000</td>\n",
       "      <td>1.200000</td>\n",
       "      <td>0.400000</td>\n",
       "    </tr>\n",
       "    <tr>\n",
       "      <th>75%</th>\n",
       "      <td>2012.000000</td>\n",
       "      <td>7.400000</td>\n",
       "      <td>67.500000</td>\n",
       "      <td>15.000000</td>\n",
       "      <td>1.680000</td>\n",
       "      <td>0.700000</td>\n",
       "    </tr>\n",
       "    <tr>\n",
       "      <th>max</th>\n",
       "      <td>2016.000000</td>\n",
       "      <td>18.100000</td>\n",
       "      <td>207.300000</td>\n",
       "      <td>40.600000</td>\n",
       "      <td>5.560000</td>\n",
       "      <td>2.300000</td>\n",
       "    </tr>\n",
       "  </tbody>\n",
       "</table>\n",
       "</div>"
      ],
      "text/plain": [
       "              year         wine         beer        vodka    champagne  \\\n",
       "count  1549.000000  1549.000000  1549.000000  1549.000000  1549.000000   \n",
       "mean   2007.019367     5.638528    51.517205    11.854939     1.315526   \n",
       "std       5.489208     2.806004    25.183890     5.097104     0.796938   \n",
       "min    1998.000000     0.100000     1.000000     0.400000     0.100000   \n",
       "25%    2002.000000     3.600000    32.600000     8.400000     0.800000   \n",
       "50%    2007.000000     5.400000    50.100000    11.500000     1.200000   \n",
       "75%    2012.000000     7.400000    67.500000    15.000000     1.680000   \n",
       "max    2016.000000    18.100000   207.300000    40.600000     5.560000   \n",
       "\n",
       "            brandy  \n",
       "count  1549.000000  \n",
       "mean      0.526998  \n",
       "std       0.400201  \n",
       "min       0.000000  \n",
       "25%       0.200000  \n",
       "50%       0.400000  \n",
       "75%       0.700000  \n",
       "max       2.300000  "
      ]
     },
     "execution_count": 176,
     "metadata": {},
     "output_type": "execute_result"
    }
   ],
   "source": [
    "df.describe()"
   ]
  },
  {
   "cell_type": "markdown",
   "id": "8cc186ea-f532-466c-bbf8-94a200fe9f47",
   "metadata": {},
   "source": [
    "We can conclude, for example, that in average Beer is is the most consumed beverage and brandy is the lower one.\n",
    "\n",
    "But much more."
   ]
  },
  {
   "cell_type": "markdown",
   "id": "04e71003-674f-496f-b675-173fd7553ca8",
   "metadata": {},
   "source": [
    "Other thing that you should always do is remove na values from your dataset"
   ]
  },
  {
   "cell_type": "code",
   "execution_count": 180,
   "id": "99f2eb3b-45c8-423f-8587-cf662ffac3c2",
   "metadata": {},
   "outputs": [],
   "source": [
    "df.dropna(inplace = True)"
   ]
  },
  {
   "cell_type": "markdown",
   "id": "cade1c2f-075f-4b1e-928b-fd98adb7e149",
   "metadata": {},
   "source": [
    "Let's add a total consumption of alcohol per capita to check variations over the years and have a better interpretation about the total\n",
    "\n",
    "consumption per capita of all beverages in Russia."
   ]
  },
  {
   "cell_type": "code",
   "execution_count": 3,
   "id": "84c02220-590b-4f8f-9175-907c96c1de7d",
   "metadata": {},
   "outputs": [
    {
     "data": {
      "text/html": [
       "<div>\n",
       "<style scoped>\n",
       "    .dataframe tbody tr th:only-of-type {\n",
       "        vertical-align: middle;\n",
       "    }\n",
       "\n",
       "    .dataframe tbody tr th {\n",
       "        vertical-align: top;\n",
       "    }\n",
       "\n",
       "    .dataframe thead th {\n",
       "        text-align: right;\n",
       "    }\n",
       "</style>\n",
       "<table border=\"1\" class=\"dataframe\">\n",
       "  <thead>\n",
       "    <tr style=\"text-align: right;\">\n",
       "      <th></th>\n",
       "      <th>year</th>\n",
       "      <th>region</th>\n",
       "      <th>wine</th>\n",
       "      <th>beer</th>\n",
       "      <th>vodka</th>\n",
       "      <th>champagne</th>\n",
       "      <th>brandy</th>\n",
       "      <th>total_consumption</th>\n",
       "    </tr>\n",
       "  </thead>\n",
       "  <tbody>\n",
       "    <tr>\n",
       "      <th>0</th>\n",
       "      <td>1998</td>\n",
       "      <td>Republic of Adygea</td>\n",
       "      <td>1.9</td>\n",
       "      <td>8.8</td>\n",
       "      <td>3.4</td>\n",
       "      <td>0.3</td>\n",
       "      <td>0.1</td>\n",
       "      <td>14.5</td>\n",
       "    </tr>\n",
       "    <tr>\n",
       "      <th>1</th>\n",
       "      <td>1998</td>\n",
       "      <td>Altai Krai</td>\n",
       "      <td>3.3</td>\n",
       "      <td>19.2</td>\n",
       "      <td>11.3</td>\n",
       "      <td>1.1</td>\n",
       "      <td>0.1</td>\n",
       "      <td>35.0</td>\n",
       "    </tr>\n",
       "    <tr>\n",
       "      <th>2</th>\n",
       "      <td>1998</td>\n",
       "      <td>Amur Oblast</td>\n",
       "      <td>2.1</td>\n",
       "      <td>21.2</td>\n",
       "      <td>17.3</td>\n",
       "      <td>0.7</td>\n",
       "      <td>0.4</td>\n",
       "      <td>41.7</td>\n",
       "    </tr>\n",
       "    <tr>\n",
       "      <th>3</th>\n",
       "      <td>1998</td>\n",
       "      <td>Arkhangelsk Oblast</td>\n",
       "      <td>4.3</td>\n",
       "      <td>10.6</td>\n",
       "      <td>11.7</td>\n",
       "      <td>0.4</td>\n",
       "      <td>0.3</td>\n",
       "      <td>27.3</td>\n",
       "    </tr>\n",
       "    <tr>\n",
       "      <th>4</th>\n",
       "      <td>1998</td>\n",
       "      <td>Astrakhan Oblast</td>\n",
       "      <td>2.9</td>\n",
       "      <td>18.0</td>\n",
       "      <td>9.5</td>\n",
       "      <td>0.8</td>\n",
       "      <td>0.2</td>\n",
       "      <td>31.4</td>\n",
       "    </tr>\n",
       "  </tbody>\n",
       "</table>\n",
       "</div>"
      ],
      "text/plain": [
       "   year              region  wine  beer  vodka  champagne  brandy  \\\n",
       "0  1998  Republic of Adygea   1.9   8.8    3.4        0.3     0.1   \n",
       "1  1998          Altai Krai   3.3  19.2   11.3        1.1     0.1   \n",
       "2  1998         Amur Oblast   2.1  21.2   17.3        0.7     0.4   \n",
       "3  1998  Arkhangelsk Oblast   4.3  10.6   11.7        0.4     0.3   \n",
       "4  1998    Astrakhan Oblast   2.9  18.0    9.5        0.8     0.2   \n",
       "\n",
       "   total_consumption  \n",
       "0               14.5  \n",
       "1               35.0  \n",
       "2               41.7  \n",
       "3               27.3  \n",
       "4               31.4  "
      ]
     },
     "execution_count": 3,
     "metadata": {},
     "output_type": "execute_result"
    }
   ],
   "source": [
    "df['total_consumption'] = df['wine'] + df['beer'] + df['vodka'] + df['champagne'] + df['brandy']\n",
    "df.head()"
   ]
  },
  {
   "cell_type": "markdown",
   "id": "860a81f8-aaf3-403d-91c1-310ddf7f3d1f",
   "metadata": {},
   "source": [
    "Let's plot side by side the evolution over the years of the total consumption and per beverage.\n",
    "\n",
    "- We will try to confirm that beer is the most consumed beverage.\n",
    "\n",
    "- We will check if the consumption is increasing, decreasing or stationary over the years.\n",
    "\n",
    "- If some of the beverages with lower consumption are having an increasing in consumption over the years."
   ]
  },
  {
   "cell_type": "code",
   "execution_count": 5,
   "id": "f46f60e7-c4bd-43ed-a5fd-958ea1ba1960",
   "metadata": {
    "tags": []
   },
   "outputs": [
    {
     "data": {
      "image/png": "[encoded data removed]",
      "text/plain": [
       "<Figure size 576x288 with 2 Axes>"
      ]
     },
     "metadata": {
      "needs_background": "light"
     },
     "output_type": "display_data"
    }
   ],
   "source": [
    "list = ['wine','beer','vodka','champagne','brandy']\n",
    "fig, (ax1, ax2) = plt.subplots(1,2, figsize= (8,4))\n",
    "sns.lineplot(x = 'year', y = 'total_consumption', data = df, ax = ax1, ci = None)\n",
    "for i in list:\n",
    "    sns.lineplot(x = 'year', y = df[i], data = df, ax = ax2, ci = None)\n",
    "ax1.set_title('National Consumption Total')\n",
    "ax1.set_ylabel('l per capita')\n",
    "ax2.set_title('National Consumption per drink')\n",
    "ax2.legend(labels = list)\n",
    "ax2.set_ylabel('l per capita')\n",
    "plt.show()"
   ]
  },
  {
   "cell_type": "markdown",
   "id": "89fd3f75-cfc4-4390-ae36-c0dcaf2569af",
   "metadata": {},
   "source": [
    "We can conclude that nationally,\n",
    "\n",
    "- Beer is by far the most consumed beverage in Russian but its consumption is decreasing since around 2010.\n",
    "\n",
    "- National consumption increased until around 2010 and then decreased. National Consumption is higly impacted by beer consumption.\n",
    "\n",
    "- Wine is the only beer that has been increasing over the years."
   ]
  },
  {
   "cell_type": "markdown",
   "id": "9bf3573c-b895-4b26-9e41-d515e2281d43",
   "metadata": {},
   "source": [
    "After doing a National overview, let's check St. Petersburg Case"
   ]
  },
  {
   "cell_type": "code",
   "execution_count": 6,
   "id": "680e3aa0-60c3-49aa-8106-20bd12d7d18c",
   "metadata": {
    "tags": []
   },
   "outputs": [
    {
     "data": {
      "image/png": "[encoded data removed]",
      "text/plain": [
       "<Figure size 576x288 with 2 Axes>"
      ]
     },
     "metadata": {
      "needs_background": "light"
     },
     "output_type": "display_data"
    }
   ],
   "source": [
    "st_peter = df[df['region'] == 'Saint Petersburg']\n",
    "fig, (ax1,ax2) = plt.subplots(1,2, figsize=(8,4))\n",
    "sns.lineplot(x = 'year', y = 'total_consumption', data = st_peter, ax = ax1)\n",
    "for i in list:\n",
    "    sns.lineplot(x = 'year', y = df[i], data = st_peter, ax = ax2, ci = None)\n",
    "ax1.set_title('St. Petersburg Total Consumption')\n",
    "ax1.set_ylabel('l per capita')\n",
    "ax2.set_title('St. Petersburg Consumption per drink')\n",
    "ax2.legend(labels = list, loc = 'upper left')\n",
    "ax2.set_ylabel('l per capita')\n",
    "plt.show()"
   ]
  },
  {
   "cell_type": "markdown",
   "id": "e8b0cc3a-4081-4d9c-9ccf-9d6c639026ff",
   "metadata": {
    "jp-MarkdownHeadingCollapsed": true,
    "tags": []
   },
   "source": [
    "We can conclude that in St. Petersburg case,\n",
    "\n",
    "- The trend is similar than in National Case, but more extreme.\n",
    "\n",
    "- Consumption of alcohol is similar in 1995 & 2015.\n",
    "\n",
    "- Beer is by far the most consumed beverage in St. Petersburg."
   ]
  },
  {
   "cell_type": "markdown",
   "id": "fcff86e7-41d3-47ad-9103-9258154ca6b8",
   "metadata": {},
   "source": [
    "Additionally, and for curiosity, let's verify if we have a moderate to strong correlation between two different beverages.\n",
    "\n",
    "Meaning that the ones that drink some beverage drink other too."
   ]
  },
  {
   "cell_type": "code",
   "execution_count": 7,
   "id": "a2bd9ddb-6330-4842-815f-49d5dfabcfc0",
   "metadata": {},
   "outputs": [
    {
     "data": {
      "text/plain": [
       "<AxesSubplot:>"
      ]
     },
     "execution_count": 7,
     "metadata": {},
     "output_type": "execute_result"
    },
    {
     "data": {
      "image/png": "[encoded data removed]",
      "text/plain": [
       "<Figure size 432x288 with 2 Axes>"
      ]
     },
     "metadata": {
      "needs_background": "light"
     },
     "output_type": "display_data"
    }
   ],
   "source": [
    "correlation = df[list].corr()\n",
    "sns.heatmap(correlation, annot = True)"
   ]
  },
  {
   "cell_type": "markdown",
   "id": "a3d0c3b4-75d9-490b-bbab-126638e47309",
   "metadata": {},
   "source": [
    "We have a positive correlation between all beverages.\n",
    "\n",
    "However the correlation between Champagne & Brandy are strong enough to suppose that the people who drinks champagne drink Brandy too.\n",
    "\n",
    "Note: This two are the beverages with the lowest consumption."
   ]
  },
  {
   "cell_type": "code",
   "execution_count": 181,
   "id": "acb25182-b1dd-4a4e-a32d-6f320ef0abee",
   "metadata": {
    "collapsed": true,
    "jupyter": {
     "outputs_hidden": true
    },
    "tags": []
   },
   "outputs": [
    {
     "data": {
      "text/plain": [
       "<AxesSubplot:xlabel='champagne', ylabel='brandy'>"
      ]
     },
     "execution_count": 181,
     "metadata": {},
     "output_type": "execute_result"
    },
    {
     "data": {
      "image/png": "[encoded data removed]",
      "text/plain": [
       "<Figure size 432x288 with 1 Axes>"
      ]
     },
     "metadata": {
      "needs_background": "light"
     },
     "output_type": "display_data"
    }
   ],
   "source": [
    "sns.scatterplot(x ='champagne', y = 'brandy', data = df)"
   ]
  },
  {
   "cell_type": "markdown",
   "id": "a47296fd-c2aa-45a2-8626-de9fb4ad5a24",
   "metadata": {},
   "source": [
    "## Cluster Analysis"
   ]
  },
  {
   "cell_type": "markdown",
   "id": "3f4524de-43cc-4295-91a9-730b1003d8c6",
   "metadata": {},
   "source": [
    "The Objective of this project is to find the closest 10 neighbours (countries) of St. Petersburg we will perform a cluster analysis and \n",
    "\n",
    "afterwards a kmeans with the number of clusters that we chose.\n",
    "\n",
    "## Step 1 - will work on our dataset to be able to feed it to the model"
   ]
  },
  {
   "cell_type": "code",
   "execution_count": 183,
   "id": "49d13cb2-5eb4-4753-93af-f3a2db94a983",
   "metadata": {
    "collapsed": true,
    "jupyter": {
     "outputs_hidden": true
    },
    "tags": []
   },
   "outputs": [
    {
     "data": {
      "text/html": [
       "<div>\n",
       "<style scoped>\n",
       "    .dataframe tbody tr th:only-of-type {\n",
       "        vertical-align: middle;\n",
       "    }\n",
       "\n",
       "    .dataframe tbody tr th {\n",
       "        vertical-align: top;\n",
       "    }\n",
       "\n",
       "    .dataframe thead th {\n",
       "        text-align: right;\n",
       "    }\n",
       "</style>\n",
       "<table border=\"1\" class=\"dataframe\">\n",
       "  <thead>\n",
       "    <tr style=\"text-align: right;\">\n",
       "      <th></th>\n",
       "      <th>mean_beer</th>\n",
       "      <th>mean_brandy</th>\n",
       "      <th>mean_champagne</th>\n",
       "      <th>mean_vodka</th>\n",
       "      <th>mean_wine</th>\n",
       "      <th>amax_beer</th>\n",
       "      <th>amax_brandy</th>\n",
       "      <th>amax_champagne</th>\n",
       "      <th>amax_vodka</th>\n",
       "      <th>amax_wine</th>\n",
       "      <th>...</th>\n",
       "      <th>median_beer</th>\n",
       "      <th>median_brandy</th>\n",
       "      <th>median_champagne</th>\n",
       "      <th>median_vodka</th>\n",
       "      <th>median_wine</th>\n",
       "      <th>std_beer</th>\n",
       "      <th>std_brandy</th>\n",
       "      <th>std_champagne</th>\n",
       "      <th>std_vodka</th>\n",
       "      <th>std_wine</th>\n",
       "    </tr>\n",
       "    <tr>\n",
       "      <th>region</th>\n",
       "      <th></th>\n",
       "      <th></th>\n",
       "      <th></th>\n",
       "      <th></th>\n",
       "      <th></th>\n",
       "      <th></th>\n",
       "      <th></th>\n",
       "      <th></th>\n",
       "      <th></th>\n",
       "      <th></th>\n",
       "      <th></th>\n",
       "      <th></th>\n",
       "      <th></th>\n",
       "      <th></th>\n",
       "      <th></th>\n",
       "      <th></th>\n",
       "      <th></th>\n",
       "      <th></th>\n",
       "      <th></th>\n",
       "      <th></th>\n",
       "      <th></th>\n",
       "    </tr>\n",
       "  </thead>\n",
       "  <tbody>\n",
       "    <tr>\n",
       "      <th>Altai Krai</th>\n",
       "      <td>48.373158</td>\n",
       "      <td>0.236842</td>\n",
       "      <td>1.207368</td>\n",
       "      <td>9.465789</td>\n",
       "      <td>3.174211</td>\n",
       "      <td>70.40</td>\n",
       "      <td>0.40</td>\n",
       "      <td>1.54</td>\n",
       "      <td>14.2</td>\n",
       "      <td>4.80</td>\n",
       "      <td>...</td>\n",
       "      <td>51.6</td>\n",
       "      <td>0.20</td>\n",
       "      <td>1.2</td>\n",
       "      <td>9.9</td>\n",
       "      <td>3.3</td>\n",
       "      <td>13.259329</td>\n",
       "      <td>0.116479</td>\n",
       "      <td>0.225409</td>\n",
       "      <td>2.620541</td>\n",
       "      <td>1.154303</td>\n",
       "    </tr>\n",
       "    <tr>\n",
       "      <th>Altai Republic</th>\n",
       "      <td>36.724211</td>\n",
       "      <td>0.253684</td>\n",
       "      <td>0.934737</td>\n",
       "      <td>9.683684</td>\n",
       "      <td>5.190000</td>\n",
       "      <td>62.90</td>\n",
       "      <td>0.52</td>\n",
       "      <td>1.40</td>\n",
       "      <td>11.7</td>\n",
       "      <td>6.70</td>\n",
       "      <td>...</td>\n",
       "      <td>39.0</td>\n",
       "      <td>0.30</td>\n",
       "      <td>1.0</td>\n",
       "      <td>9.9</td>\n",
       "      <td>5.4</td>\n",
       "      <td>18.674874</td>\n",
       "      <td>0.159451</td>\n",
       "      <td>0.221695</td>\n",
       "      <td>1.262164</td>\n",
       "      <td>0.911903</td>\n",
       "    </tr>\n",
       "    <tr>\n",
       "      <th>Amur Oblast</th>\n",
       "      <td>53.377368</td>\n",
       "      <td>0.396842</td>\n",
       "      <td>1.115789</td>\n",
       "      <td>14.216842</td>\n",
       "      <td>5.221579</td>\n",
       "      <td>83.27</td>\n",
       "      <td>0.70</td>\n",
       "      <td>1.90</td>\n",
       "      <td>20.8</td>\n",
       "      <td>7.60</td>\n",
       "      <td>...</td>\n",
       "      <td>50.7</td>\n",
       "      <td>0.40</td>\n",
       "      <td>1.0</td>\n",
       "      <td>15.8</td>\n",
       "      <td>5.8</td>\n",
       "      <td>19.580882</td>\n",
       "      <td>0.183698</td>\n",
       "      <td>0.512362</td>\n",
       "      <td>4.387590</td>\n",
       "      <td>1.802024</td>\n",
       "    </tr>\n",
       "    <tr>\n",
       "      <th>Arkhangelsk Oblast</th>\n",
       "      <td>47.036842</td>\n",
       "      <td>0.870526</td>\n",
       "      <td>1.631053</td>\n",
       "      <td>17.381053</td>\n",
       "      <td>8.670000</td>\n",
       "      <td>109.00</td>\n",
       "      <td>1.30</td>\n",
       "      <td>2.60</td>\n",
       "      <td>31.9</td>\n",
       "      <td>12.23</td>\n",
       "      <td>...</td>\n",
       "      <td>45.6</td>\n",
       "      <td>0.90</td>\n",
       "      <td>1.6</td>\n",
       "      <td>16.2</td>\n",
       "      <td>9.0</td>\n",
       "      <td>20.868057</td>\n",
       "      <td>0.311724</td>\n",
       "      <td>0.612907</td>\n",
       "      <td>5.492676</td>\n",
       "      <td>2.294363</td>\n",
       "    </tr>\n",
       "    <tr>\n",
       "      <th>Astrakhan Oblast</th>\n",
       "      <td>54.695263</td>\n",
       "      <td>0.361053</td>\n",
       "      <td>0.861579</td>\n",
       "      <td>9.296842</td>\n",
       "      <td>4.469474</td>\n",
       "      <td>79.70</td>\n",
       "      <td>0.70</td>\n",
       "      <td>1.10</td>\n",
       "      <td>12.9</td>\n",
       "      <td>6.10</td>\n",
       "      <td>...</td>\n",
       "      <td>59.8</td>\n",
       "      <td>0.30</td>\n",
       "      <td>0.9</td>\n",
       "      <td>9.5</td>\n",
       "      <td>4.5</td>\n",
       "      <td>19.833411</td>\n",
       "      <td>0.214318</td>\n",
       "      <td>0.144694</td>\n",
       "      <td>2.383315</td>\n",
       "      <td>0.763715</td>\n",
       "    </tr>\n",
       "    <tr>\n",
       "      <th>...</th>\n",
       "      <td>...</td>\n",
       "      <td>...</td>\n",
       "      <td>...</td>\n",
       "      <td>...</td>\n",
       "      <td>...</td>\n",
       "      <td>...</td>\n",
       "      <td>...</td>\n",
       "      <td>...</td>\n",
       "      <td>...</td>\n",
       "      <td>...</td>\n",
       "      <td>...</td>\n",
       "      <td>...</td>\n",
       "      <td>...</td>\n",
       "      <td>...</td>\n",
       "      <td>...</td>\n",
       "      <td>...</td>\n",
       "      <td>...</td>\n",
       "      <td>...</td>\n",
       "      <td>...</td>\n",
       "      <td>...</td>\n",
       "      <td>...</td>\n",
       "    </tr>\n",
       "    <tr>\n",
       "      <th>Vologda Oblast</th>\n",
       "      <td>67.206842</td>\n",
       "      <td>0.517895</td>\n",
       "      <td>0.857368</td>\n",
       "      <td>17.217895</td>\n",
       "      <td>9.328421</td>\n",
       "      <td>108.60</td>\n",
       "      <td>0.80</td>\n",
       "      <td>1.30</td>\n",
       "      <td>26.7</td>\n",
       "      <td>18.10</td>\n",
       "      <td>...</td>\n",
       "      <td>84.8</td>\n",
       "      <td>0.60</td>\n",
       "      <td>0.8</td>\n",
       "      <td>17.4</td>\n",
       "      <td>9.4</td>\n",
       "      <td>26.665173</td>\n",
       "      <td>0.187604</td>\n",
       "      <td>0.350996</td>\n",
       "      <td>4.930864</td>\n",
       "      <td>3.638042</td>\n",
       "    </tr>\n",
       "    <tr>\n",
       "      <th>Voronezh Oblast</th>\n",
       "      <td>54.911053</td>\n",
       "      <td>0.402105</td>\n",
       "      <td>1.500000</td>\n",
       "      <td>9.916316</td>\n",
       "      <td>4.637895</td>\n",
       "      <td>85.20</td>\n",
       "      <td>0.60</td>\n",
       "      <td>2.30</td>\n",
       "      <td>14.2</td>\n",
       "      <td>7.50</td>\n",
       "      <td>...</td>\n",
       "      <td>51.1</td>\n",
       "      <td>0.44</td>\n",
       "      <td>1.4</td>\n",
       "      <td>10.5</td>\n",
       "      <td>4.7</td>\n",
       "      <td>21.538209</td>\n",
       "      <td>0.176622</td>\n",
       "      <td>0.338296</td>\n",
       "      <td>3.060638</td>\n",
       "      <td>1.807686</td>\n",
       "    </tr>\n",
       "    <tr>\n",
       "      <th>Yamalo-Nenets Autonomous Okrug</th>\n",
       "      <td>80.137895</td>\n",
       "      <td>0.951579</td>\n",
       "      <td>1.485789</td>\n",
       "      <td>15.093158</td>\n",
       "      <td>5.312105</td>\n",
       "      <td>106.60</td>\n",
       "      <td>1.80</td>\n",
       "      <td>2.53</td>\n",
       "      <td>23.3</td>\n",
       "      <td>7.70</td>\n",
       "      <td>...</td>\n",
       "      <td>87.4</td>\n",
       "      <td>1.10</td>\n",
       "      <td>1.7</td>\n",
       "      <td>14.1</td>\n",
       "      <td>5.0</td>\n",
       "      <td>25.089080</td>\n",
       "      <td>0.543336</td>\n",
       "      <td>0.668625</td>\n",
       "      <td>4.163132</td>\n",
       "      <td>1.334544</td>\n",
       "    </tr>\n",
       "    <tr>\n",
       "      <th>Yaroslavl Oblast</th>\n",
       "      <td>63.331579</td>\n",
       "      <td>0.571053</td>\n",
       "      <td>1.241053</td>\n",
       "      <td>14.944211</td>\n",
       "      <td>7.193158</td>\n",
       "      <td>90.10</td>\n",
       "      <td>1.10</td>\n",
       "      <td>2.10</td>\n",
       "      <td>21.1</td>\n",
       "      <td>11.30</td>\n",
       "      <td>...</td>\n",
       "      <td>66.8</td>\n",
       "      <td>0.60</td>\n",
       "      <td>1.4</td>\n",
       "      <td>14.5</td>\n",
       "      <td>7.6</td>\n",
       "      <td>15.796239</td>\n",
       "      <td>0.345332</td>\n",
       "      <td>0.516848</td>\n",
       "      <td>4.084228</td>\n",
       "      <td>2.993549</td>\n",
       "    </tr>\n",
       "    <tr>\n",
       "      <th>Zabaykalsky Krai</th>\n",
       "      <td>67.812105</td>\n",
       "      <td>0.439474</td>\n",
       "      <td>1.114211</td>\n",
       "      <td>14.237368</td>\n",
       "      <td>6.806316</td>\n",
       "      <td>207.30</td>\n",
       "      <td>1.80</td>\n",
       "      <td>3.10</td>\n",
       "      <td>40.6</td>\n",
       "      <td>16.30</td>\n",
       "      <td>...</td>\n",
       "      <td>61.9</td>\n",
       "      <td>0.30</td>\n",
       "      <td>0.9</td>\n",
       "      <td>12.7</td>\n",
       "      <td>6.5</td>\n",
       "      <td>62.164905</td>\n",
       "      <td>0.471575</td>\n",
       "      <td>0.906981</td>\n",
       "      <td>9.643235</td>\n",
       "      <td>4.250998</td>\n",
       "    </tr>\n",
       "  </tbody>\n",
       "</table>\n",
       "<p>84 rows × 25 columns</p>\n",
       "</div>"
      ],
      "text/plain": [
       "                                mean_beer  mean_brandy  mean_champagne  \\\n",
       "region                                                                   \n",
       "Altai Krai                      48.373158     0.236842        1.207368   \n",
       "Altai Republic                  36.724211     0.253684        0.934737   \n",
       "Amur Oblast                     53.377368     0.396842        1.115789   \n",
       "Arkhangelsk Oblast              47.036842     0.870526        1.631053   \n",
       "Astrakhan Oblast                54.695263     0.361053        0.861579   \n",
       "...                                   ...          ...             ...   \n",
       "Vologda Oblast                  67.206842     0.517895        0.857368   \n",
       "Voronezh Oblast                 54.911053     0.402105        1.500000   \n",
       "Yamalo-Nenets Autonomous Okrug  80.137895     0.951579        1.485789   \n",
       "Yaroslavl Oblast                63.331579     0.571053        1.241053   \n",
       "Zabaykalsky Krai                67.812105     0.439474        1.114211   \n",
       "\n",
       "                                mean_vodka  mean_wine  amax_beer  amax_brandy  \\\n",
       "region                                                                          \n",
       "Altai Krai                        9.465789   3.174211      70.40         0.40   \n",
       "Altai Republic                    9.683684   5.190000      62.90         0.52   \n",
       "Amur Oblast                      14.216842   5.221579      83.27         0.70   \n",
       "Arkhangelsk Oblast               17.381053   8.670000     109.00         1.30   \n",
       "Astrakhan Oblast                  9.296842   4.469474      79.70         0.70   \n",
       "...                                    ...        ...        ...          ...   \n",
       "Vologda Oblast                   17.217895   9.328421     108.60         0.80   \n",
       "Voronezh Oblast                   9.916316   4.637895      85.20         0.60   \n",
       "Yamalo-Nenets Autonomous Okrug   15.093158   5.312105     106.60         1.80   \n",
       "Yaroslavl Oblast                 14.944211   7.193158      90.10         1.10   \n",
       "Zabaykalsky Krai                 14.237368   6.806316     207.30         1.80   \n",
       "\n",
       "                                amax_champagne  amax_vodka  amax_wine  ...  \\\n",
       "region                                                                 ...   \n",
       "Altai Krai                                1.54        14.2       4.80  ...   \n",
       "Altai Republic                            1.40        11.7       6.70  ...   \n",
       "Amur Oblast                               1.90        20.8       7.60  ...   \n",
       "Arkhangelsk Oblast                        2.60        31.9      12.23  ...   \n",
       "Astrakhan Oblast                          1.10        12.9       6.10  ...   \n",
       "...                                        ...         ...        ...  ...   \n",
       "Vologda Oblast                            1.30        26.7      18.10  ...   \n",
       "Voronezh Oblast                           2.30        14.2       7.50  ...   \n",
       "Yamalo-Nenets Autonomous Okrug            2.53        23.3       7.70  ...   \n",
       "Yaroslavl Oblast                          2.10        21.1      11.30  ...   \n",
       "Zabaykalsky Krai                          3.10        40.6      16.30  ...   \n",
       "\n",
       "                                median_beer  median_brandy  median_champagne  \\\n",
       "region                                                                         \n",
       "Altai Krai                             51.6           0.20               1.2   \n",
       "Altai Republic                         39.0           0.30               1.0   \n",
       "Amur Oblast                            50.7           0.40               1.0   \n",
       "Arkhangelsk Oblast                     45.6           0.90               1.6   \n",
       "Astrakhan Oblast                       59.8           0.30               0.9   \n",
       "...                                     ...            ...               ...   \n",
       "Vologda Oblast                         84.8           0.60               0.8   \n",
       "Voronezh Oblast                        51.1           0.44               1.4   \n",
       "Yamalo-Nenets Autonomous Okrug         87.4           1.10               1.7   \n",
       "Yaroslavl Oblast                       66.8           0.60               1.4   \n",
       "Zabaykalsky Krai                       61.9           0.30               0.9   \n",
       "\n",
       "                                median_vodka  median_wine   std_beer  \\\n",
       "region                                                                 \n",
       "Altai Krai                               9.9          3.3  13.259329   \n",
       "Altai Republic                           9.9          5.4  18.674874   \n",
       "Amur Oblast                             15.8          5.8  19.580882   \n",
       "Arkhangelsk Oblast                      16.2          9.0  20.868057   \n",
       "Astrakhan Oblast                         9.5          4.5  19.833411   \n",
       "...                                      ...          ...        ...   \n",
       "Vologda Oblast                          17.4          9.4  26.665173   \n",
       "Voronezh Oblast                         10.5          4.7  21.538209   \n",
       "Yamalo-Nenets Autonomous Okrug          14.1          5.0  25.089080   \n",
       "Yaroslavl Oblast                        14.5          7.6  15.796239   \n",
       "Zabaykalsky Krai                        12.7          6.5  62.164905   \n",
       "\n",
       "                                std_brandy  std_champagne  std_vodka  std_wine  \n",
       "region                                                                          \n",
       "Altai Krai                        0.116479       0.225409   2.620541  1.154303  \n",
       "Altai Republic                    0.159451       0.221695   1.262164  0.911903  \n",
       "Amur Oblast                       0.183698       0.512362   4.387590  1.802024  \n",
       "Arkhangelsk Oblast                0.311724       0.612907   5.492676  2.294363  \n",
       "Astrakhan Oblast                  0.214318       0.144694   2.383315  0.763715  \n",
       "...                                    ...            ...        ...       ...  \n",
       "Vologda Oblast                    0.187604       0.350996   4.930864  3.638042  \n",
       "Voronezh Oblast                   0.176622       0.338296   3.060638  1.807686  \n",
       "Yamalo-Nenets Autonomous Okrug    0.543336       0.668625   4.163132  1.334544  \n",
       "Yaroslavl Oblast                  0.345332       0.516848   4.084228  2.993549  \n",
       "Zabaykalsky Krai                  0.471575       0.906981   9.643235  4.250998  \n",
       "\n",
       "[84 rows x 25 columns]"
      ]
     },
     "execution_count": 183,
     "metadata": {},
     "output_type": "execute_result"
    }
   ],
   "source": [
    "#Passing the DataFrame from wide to long, meaning that the alcohol columns will be in just one column.\n",
    "df_long = pd.melt(df, id_vars = (\"region\", \"year\"), value_vars = list, var_name = \"alcohol\", \n",
    "                  value_name = \"consumption per capita in litre\")\n",
    "\n",
    "#Calculate mean, max, min, median and std, per region and alcohol. Note we will drop year column and groupby the dataset per region \n",
    "# and alcohol, and calculate all the characteristics for every single beverage in every single year.\n",
    "df_region = df_long.drop(columns='year').groupby(['region','alcohol']).agg([np.mean,np.max,np.min,np.median,np.std])\n",
    "\n",
    "#We will remove the index of the total consumption cause we don't need, however if the question was for total consumption without\n",
    "#knowing or wanting the consumption for every single beverage we should work with that one.\n",
    "df_region.columns = df_region.columns.droplevel(0)\n",
    "\n",
    "#We must reset the index before we unpivot the the columns that we will work on.\n",
    "df_region = df_region.reset_index()\n",
    "\n",
    "#Pivot the dataset where region is in the index and alcohol features in the columns. It can be the other way around if you want.\n",
    "df_region = df_region.pivot(index = \"region\", \n",
    "                                  columns = \"alcohol\")\n",
    "\n",
    "#Usually it's a pass that I don't do however it makes sense to do it for the model be able to identify metrics.\n",
    "#If you want you can change amax and amin to min or max, we will let it be.\n",
    "df_region.columns = df_region.columns.map('_'.join)\n",
    "df_region"
   ]
  },
  {
   "cell_type": "markdown",
   "id": "b6447a79-ed8f-4ec1-bc37-11ba3f8fdb62",
   "metadata": {},
   "source": [
    "## Step 2 - Rescaling Data.\n",
    "\n",
    "It's almost need everytime to standardize the data for this to be more or less similar to a normal distribution."
   ]
  },
  {
   "cell_type": "code",
   "execution_count": 185,
   "id": "8b7220d0-aef2-4211-b6e9-9c2428fc13b5",
   "metadata": {
    "tags": []
   },
   "outputs": [
    {
     "data": {
      "text/plain": [
       "(84, 25)"
      ]
     },
     "execution_count": 185,
     "metadata": {},
     "output_type": "execute_result"
    }
   ],
   "source": [
    "scalar = StandardScaler()\n",
    "#Standardizing the Data into arrays\n",
    "df_region_scalar = scalar.fit_transform(df_region)\n",
    "#Passing the standardizing data to a dataframe again\n",
    "df_region_std = pd.DataFrame(df_region_scalar, index = df_region.index, columns = df_region.columns)\n",
    "df_region_std.shape"
   ]
  },
  {
   "cell_type": "markdown",
   "id": "c3b0f2d0-3683-4317-a6d8-9fa77879a137",
   "metadata": {},
   "source": [
    "When you print the shap of our standardized dataset you will have,\n",
    "\n",
    "- 84 number of samples.\n",
    "\n",
    "- 25 number of features.\n",
    "\n",
    "df_region_std will be feed to fit_transform() to apply a dimensional reduction."
   ]
  },
  {
   "cell_type": "markdown",
   "id": "653af7a3-fe28-479f-b4ef-0baa1ab0bb7b",
   "metadata": {},
   "source": [
    "## Step 3 - Final Analysis\n",
    "\n",
    "- 3.1 - Dimensional transformation to the dataset.\n",
    "- 3.2 - Choose the number of clusters to run the kmeans.\n",
    "- 3.3 - Inertia Kmeans"
   ]
  },
  {
   "cell_type": "markdown",
   "id": "4658b9b3-7a4d-4064-bc16-d40be42df74d",
   "metadata": {},
   "source": [
    "-----------------------\n",
    "- 3.1 - Dimensional transformation to the dataset."
   ]
  },
  {
   "cell_type": "code",
   "execution_count": 112,
   "id": "07d0b2f5-fd0c-49ac-945b-98fa56050f33",
   "metadata": {
    "collapsed": true,
    "jupyter": {
     "outputs_hidden": true
    },
    "tags": []
   },
   "outputs": [
    {
     "data": {
      "text/plain": [
       "array([[-3.21631632e+00,  2.60555391e-01, -1.32300453e+00, ...,\n",
       "        -5.04995763e-03,  7.01520195e-02,  1.27230795e-02],\n",
       "       [-2.94107638e+00,  4.97794747e-01,  4.59651960e-01, ...,\n",
       "        -6.27304696e-02, -8.65679473e-02, -1.42733440e-02],\n",
       "       [-1.85290624e-01, -1.14651983e+00, -2.74614085e-01, ...,\n",
       "        -8.86159112e-02, -2.04472213e-02,  7.61875028e-02],\n",
       "       ...,\n",
       "       [ 3.87486099e+00,  3.28051612e-01, -1.74722393e+00, ...,\n",
       "        -7.23190630e-03, -1.00828574e-02,  1.87186430e-02],\n",
       "       [ 2.22167526e+00, -1.68887296e+00,  2.70791722e-01, ...,\n",
       "        -3.76338741e-02, -1.35156107e-02,  2.16237062e-02],\n",
       "       [ 4.49730987e+00, -6.41686941e+00, -3.09547260e-01, ...,\n",
       "        -8.59198676e-02,  2.38352649e-02, -1.04355890e-02]])"
      ]
     },
     "execution_count": 112,
     "metadata": {},
     "output_type": "execute_result"
    }
   ],
   "source": [
    "pca = PCA()\n",
    "pca_array = pca.fit_transform(df_region_std)\n",
    "pca_array"
   ]
  },
  {
   "cell_type": "markdown",
   "id": "6d91a5ba-dee9-4430-b85d-74f077c338c4",
   "metadata": {},
   "source": [
    "-----------------------------\n",
    "- 3.2 - Choose the number of clusters to run the kmeans.\n",
    "\n",
    "Note: \n",
    "\n",
    "- Avoid using too many clusters in the analysis, will not be able to group the data with satisfactory variance and the analysis will take too much time. \n",
    "\n",
    "- Try to use 3 or 4 clusters were the explained variance is above 75%. If not go for 5 or 6."
   ]
  },
  {
   "cell_type": "code",
   "execution_count": 192,
   "id": "c469dcbd-a48b-4d6d-bfc8-c86ec13f99e5",
   "metadata": {},
   "outputs": [
    {
     "name": "stdout",
     "output_type": "stream",
     "text": [
      "With 3 clusters we have a explained variance of 0.7937780778236211 and with 4 clusters we have a explained variance of 0.7097093913566116\n"
     ]
    }
   ],
   "source": [
    "print(f'''With 3 clusters we have a explained variance of {np.sum(pca.explained_variance_ratio_[:4])} and with 4 clusters we have a explained variance of {np.sum(pca.explained_variance_ratio_[:3])}''')"
   ]
  },
  {
   "cell_type": "markdown",
   "id": "590223c2-0427-4dc2-9e16-a33d2b804239",
   "metadata": {},
   "source": [
    "Looking to the results of explained variance that we obtain and as I said I prefer to work with explained variance over 75% he will perform our analysis with 4 clusters. "
   ]
  },
  {
   "cell_type": "markdown",
   "id": "59851647-2dc4-4411-b86d-1d60cd12921e",
   "metadata": {},
   "source": [
    " ------------------------\n",
    " - Step 3.3 - Inertia kmeans\n",
    "\n",
    "Let's build the dataset with the 4 PCA Features.\n",
    "\n",
    "We will append the first 4 values in our dimensional values obtained in the PCA above to a dataset with the countries.\n",
    "\n",
    "This four clusters will be used to group regions for similarity ahead."
   ]
  },
  {
   "cell_type": "code",
   "execution_count": 115,
   "id": "0a85bcd6-3a0f-4e18-8cb5-63d913c3ba5a",
   "metadata": {
    "collapsed": true,
    "jupyter": {
     "outputs_hidden": true
    },
    "tags": []
   },
   "outputs": [
    {
     "data": {
      "text/html": [
       "<div>\n",
       "<style scoped>\n",
       "    .dataframe tbody tr th:only-of-type {\n",
       "        vertical-align: middle;\n",
       "    }\n",
       "\n",
       "    .dataframe tbody tr th {\n",
       "        vertical-align: top;\n",
       "    }\n",
       "\n",
       "    .dataframe thead th {\n",
       "        text-align: right;\n",
       "    }\n",
       "</style>\n",
       "<table border=\"1\" class=\"dataframe\">\n",
       "  <thead>\n",
       "    <tr style=\"text-align: right;\">\n",
       "      <th></th>\n",
       "      <th>1</th>\n",
       "      <th>2</th>\n",
       "      <th>3</th>\n",
       "      <th>4</th>\n",
       "    </tr>\n",
       "    <tr>\n",
       "      <th>region</th>\n",
       "      <th></th>\n",
       "      <th></th>\n",
       "      <th></th>\n",
       "      <th></th>\n",
       "    </tr>\n",
       "  </thead>\n",
       "  <tbody>\n",
       "    <tr>\n",
       "      <th>Altai Krai</th>\n",
       "      <td>-3.216316</td>\n",
       "      <td>0.260555</td>\n",
       "      <td>-1.323005</td>\n",
       "      <td>0.475485</td>\n",
       "    </tr>\n",
       "    <tr>\n",
       "      <th>Altai Republic</th>\n",
       "      <td>-2.941076</td>\n",
       "      <td>0.497795</td>\n",
       "      <td>0.459652</td>\n",
       "      <td>-0.305172</td>\n",
       "    </tr>\n",
       "    <tr>\n",
       "      <th>Amur Oblast</th>\n",
       "      <td>-0.185291</td>\n",
       "      <td>-1.146520</td>\n",
       "      <td>-0.274614</td>\n",
       "      <td>0.698728</td>\n",
       "    </tr>\n",
       "    <tr>\n",
       "      <th>Arkhangelsk Oblast</th>\n",
       "      <td>4.295602</td>\n",
       "      <td>-0.840900</td>\n",
       "      <td>1.772732</td>\n",
       "      <td>0.529319</td>\n",
       "    </tr>\n",
       "    <tr>\n",
       "      <th>Astrakhan Oblast</th>\n",
       "      <td>-2.582756</td>\n",
       "      <td>-0.128260</td>\n",
       "      <td>-1.380465</td>\n",
       "      <td>-0.243217</td>\n",
       "    </tr>\n",
       "    <tr>\n",
       "      <th>...</th>\n",
       "      <td>...</td>\n",
       "      <td>...</td>\n",
       "      <td>...</td>\n",
       "      <td>...</td>\n",
       "    </tr>\n",
       "    <tr>\n",
       "      <th>Vologda Oblast</th>\n",
       "      <td>2.841449</td>\n",
       "      <td>-4.667691</td>\n",
       "      <td>0.641423</td>\n",
       "      <td>-1.929784</td>\n",
       "    </tr>\n",
       "    <tr>\n",
       "      <th>Voronezh Oblast</th>\n",
       "      <td>-1.270769</td>\n",
       "      <td>-0.014235</td>\n",
       "      <td>-1.098456</td>\n",
       "      <td>0.259602</td>\n",
       "    </tr>\n",
       "    <tr>\n",
       "      <th>Yamalo-Nenets Autonomous Okrug</th>\n",
       "      <td>3.874861</td>\n",
       "      <td>0.328052</td>\n",
       "      <td>-1.747224</td>\n",
       "      <td>1.370767</td>\n",
       "    </tr>\n",
       "    <tr>\n",
       "      <th>Yaroslavl Oblast</th>\n",
       "      <td>2.221675</td>\n",
       "      <td>-1.688873</td>\n",
       "      <td>0.270792</td>\n",
       "      <td>-1.093267</td>\n",
       "    </tr>\n",
       "    <tr>\n",
       "      <th>Zabaykalsky Krai</th>\n",
       "      <td>4.497310</td>\n",
       "      <td>-6.416869</td>\n",
       "      <td>-0.309547</td>\n",
       "      <td>3.941630</td>\n",
       "    </tr>\n",
       "  </tbody>\n",
       "</table>\n",
       "<p>84 rows × 4 columns</p>\n",
       "</div>"
      ],
      "text/plain": [
       "                                       1         2         3         4\n",
       "region                                                                \n",
       "Altai Krai                     -3.216316  0.260555 -1.323005  0.475485\n",
       "Altai Republic                 -2.941076  0.497795  0.459652 -0.305172\n",
       "Amur Oblast                    -0.185291 -1.146520 -0.274614  0.698728\n",
       "Arkhangelsk Oblast              4.295602 -0.840900  1.772732  0.529319\n",
       "Astrakhan Oblast               -2.582756 -0.128260 -1.380465 -0.243217\n",
       "...                                  ...       ...       ...       ...\n",
       "Vologda Oblast                  2.841449 -4.667691  0.641423 -1.929784\n",
       "Voronezh Oblast                -1.270769 -0.014235 -1.098456  0.259602\n",
       "Yamalo-Nenets Autonomous Okrug  3.874861  0.328052 -1.747224  1.370767\n",
       "Yaroslavl Oblast                2.221675 -1.688873  0.270792 -1.093267\n",
       "Zabaykalsky Krai                4.497310 -6.416869 -0.309547  3.941630\n",
       "\n",
       "[84 rows x 4 columns]"
      ]
     },
     "execution_count": 115,
     "metadata": {},
     "output_type": "execute_result"
    }
   ],
   "source": [
    "pca_df = pd.DataFrame({i+1: pca_array[:, i] for i in range(4)}, index=df_region_std.index)\n",
    "pca_df"
   ]
  },
  {
   "cell_type": "markdown",
   "id": "e41fa35c-e673-4f33-a558-2f38395c9612",
   "metadata": {},
   "source": [
    "Optional we can calculate the inertia\n",
    "\n",
    "Inertia is used to calculate the distance between every point to their centroid."
   ]
  },
  {
   "cell_type": "code",
   "execution_count": 170,
   "id": "5bccaf9e-f09c-4ccb-94ba-9304768f6b8a",
   "metadata": {
    "collapsed": true,
    "jupyter": {
     "outputs_hidden": true
    },
    "tags": []
   },
   "outputs": [
    {
     "name": "stderr",
     "output_type": "stream",
     "text": [
      "C:\\ProgramData\\Anaconda3\\lib\\site-packages\\sklearn\\utils\\validation.py:1688: FutureWarning: Feature names only support names that are all strings. Got feature names with dtypes: ['int', 'str']. An error will be raised in 1.2.\n",
      "  warnings.warn(\n",
      "C:\\ProgramData\\Anaconda3\\lib\\site-packages\\sklearn\\cluster\\_kmeans.py:1036: UserWarning: KMeans is known to have a memory leak on Windows with MKL, when there are less chunks than available threads. You can avoid it by setting the environment variable OMP_NUM_THREADS=1.\n",
      "  warnings.warn(\n",
      "C:\\ProgramData\\Anaconda3\\lib\\site-packages\\sklearn\\utils\\validation.py:1688: FutureWarning: Feature names only support names that are all strings. Got feature names with dtypes: ['int', 'str']. An error will be raised in 1.2.\n",
      "  warnings.warn(\n",
      "C:\\ProgramData\\Anaconda3\\lib\\site-packages\\sklearn\\cluster\\_kmeans.py:1036: UserWarning: KMeans is known to have a memory leak on Windows with MKL, when there are less chunks than available threads. You can avoid it by setting the environment variable OMP_NUM_THREADS=1.\n",
      "  warnings.warn(\n",
      "C:\\ProgramData\\Anaconda3\\lib\\site-packages\\sklearn\\utils\\validation.py:1688: FutureWarning: Feature names only support names that are all strings. Got feature names with dtypes: ['int', 'str']. An error will be raised in 1.2.\n",
      "  warnings.warn(\n",
      "C:\\ProgramData\\Anaconda3\\lib\\site-packages\\sklearn\\cluster\\_kmeans.py:1036: UserWarning: KMeans is known to have a memory leak on Windows with MKL, when there are less chunks than available threads. You can avoid it by setting the environment variable OMP_NUM_THREADS=1.\n",
      "  warnings.warn(\n",
      "C:\\ProgramData\\Anaconda3\\lib\\site-packages\\sklearn\\utils\\validation.py:1688: FutureWarning: Feature names only support names that are all strings. Got feature names with dtypes: ['int', 'str']. An error will be raised in 1.2.\n",
      "  warnings.warn(\n",
      "C:\\ProgramData\\Anaconda3\\lib\\site-packages\\sklearn\\cluster\\_kmeans.py:1036: UserWarning: KMeans is known to have a memory leak on Windows with MKL, when there are less chunks than available threads. You can avoid it by setting the environment variable OMP_NUM_THREADS=1.\n",
      "  warnings.warn(\n",
      "C:\\ProgramData\\Anaconda3\\lib\\site-packages\\sklearn\\utils\\validation.py:1688: FutureWarning: Feature names only support names that are all strings. Got feature names with dtypes: ['int', 'str']. An error will be raised in 1.2.\n",
      "  warnings.warn(\n",
      "C:\\ProgramData\\Anaconda3\\lib\\site-packages\\sklearn\\cluster\\_kmeans.py:1036: UserWarning: KMeans is known to have a memory leak on Windows with MKL, when there are less chunks than available threads. You can avoid it by setting the environment variable OMP_NUM_THREADS=1.\n",
      "  warnings.warn(\n",
      "C:\\ProgramData\\Anaconda3\\lib\\site-packages\\sklearn\\utils\\validation.py:1688: FutureWarning: Feature names only support names that are all strings. Got feature names with dtypes: ['int', 'str']. An error will be raised in 1.2.\n",
      "  warnings.warn(\n",
      "C:\\ProgramData\\Anaconda3\\lib\\site-packages\\sklearn\\cluster\\_kmeans.py:1036: UserWarning: KMeans is known to have a memory leak on Windows with MKL, when there are less chunks than available threads. You can avoid it by setting the environment variable OMP_NUM_THREADS=1.\n",
      "  warnings.warn(\n",
      "C:\\ProgramData\\Anaconda3\\lib\\site-packages\\sklearn\\utils\\validation.py:1688: FutureWarning: Feature names only support names that are all strings. Got feature names with dtypes: ['int', 'str']. An error will be raised in 1.2.\n",
      "  warnings.warn(\n",
      "C:\\ProgramData\\Anaconda3\\lib\\site-packages\\sklearn\\cluster\\_kmeans.py:1036: UserWarning: KMeans is known to have a memory leak on Windows with MKL, when there are less chunks than available threads. You can avoid it by setting the environment variable OMP_NUM_THREADS=1.\n",
      "  warnings.warn(\n",
      "C:\\ProgramData\\Anaconda3\\lib\\site-packages\\sklearn\\utils\\validation.py:1688: FutureWarning: Feature names only support names that are all strings. Got feature names with dtypes: ['int', 'str']. An error will be raised in 1.2.\n",
      "  warnings.warn(\n",
      "C:\\ProgramData\\Anaconda3\\lib\\site-packages\\sklearn\\cluster\\_kmeans.py:1036: UserWarning: KMeans is known to have a memory leak on Windows with MKL, when there are less chunks than available threads. You can avoid it by setting the environment variable OMP_NUM_THREADS=1.\n",
      "  warnings.warn(\n",
      "C:\\ProgramData\\Anaconda3\\lib\\site-packages\\sklearn\\utils\\validation.py:1688: FutureWarning: Feature names only support names that are all strings. Got feature names with dtypes: ['int', 'str']. An error will be raised in 1.2.\n",
      "  warnings.warn(\n",
      "C:\\ProgramData\\Anaconda3\\lib\\site-packages\\sklearn\\cluster\\_kmeans.py:1036: UserWarning: KMeans is known to have a memory leak on Windows with MKL, when there are less chunks than available threads. You can avoid it by setting the environment variable OMP_NUM_THREADS=1.\n",
      "  warnings.warn(\n"
     ]
    },
    {
     "data": {
      "text/plain": [
       "[1069.8509122633382,\n",
       " 845.7336127286051,\n",
       " 714.0693959071203,\n",
       " 650.5817511033307,\n",
       " 553.978490304276,\n",
       " 494.63043711123163,\n",
       " 455.03072860611513,\n",
       " 408.1501972462134,\n",
       " 366.88083247211006]"
      ]
     },
     "execution_count": 170,
     "metadata": {},
     "output_type": "execute_result"
    }
   ],
   "source": [
    "# from sklearn.cluster import KMeans\n",
    "# #We will consider for this plot what literature usually says between 2 to 10 features\n",
    "# cluster_num = np.arange(2,11) \n",
    "# inertia_list = []\n",
    "\n",
    "# for num in cluster_num:\n",
    "#     kmeans = KMeans(n_clusters = num, random_state = 3, max_iter = 10000, algorithm=\"full\")\n",
    "#     kmeans.fit(pca_df)\n",
    "#     inertia_list.append(kmeans.inertia_)\n",
    "# inertia_list"
   ]
  },
  {
   "cell_type": "markdown",
   "id": "c85a9e73-2f57-40f3-a874-7e8fe093067c",
   "metadata": {},
   "source": [
    "## Step 5 - KMeans with 4 clusters"
   ]
  },
  {
   "cell_type": "markdown",
   "id": "dc6810a3-ac36-4697-939b-d34b0e6f2c2c",
   "metadata": {},
   "source": [
    "Before running our kmeans we will build the DataFrame to feed our KMeans Analysis.\n",
    "\n",
    "We will append the first 4 values (correspondent to the 4 clusters that we chose) and append the 25 features that they have."
   ]
  },
  {
   "cell_type": "code",
   "execution_count": 199,
   "id": "255acf13-5a83-4cea-9ef2-37ba651bb660",
   "metadata": {},
   "outputs": [
    {
     "data": {
      "text/html": [
       "<div>\n",
       "<style scoped>\n",
       "    .dataframe tbody tr th:only-of-type {\n",
       "        vertical-align: middle;\n",
       "    }\n",
       "\n",
       "    .dataframe tbody tr th {\n",
       "        vertical-align: top;\n",
       "    }\n",
       "\n",
       "    .dataframe thead th {\n",
       "        text-align: right;\n",
       "    }\n",
       "</style>\n",
       "<table border=\"1\" class=\"dataframe\">\n",
       "  <thead>\n",
       "    <tr style=\"text-align: right;\">\n",
       "      <th></th>\n",
       "      <th>mean_beer</th>\n",
       "      <th>mean_brandy</th>\n",
       "      <th>mean_champagne</th>\n",
       "      <th>mean_vodka</th>\n",
       "      <th>mean_wine</th>\n",
       "      <th>amax_beer</th>\n",
       "      <th>amax_brandy</th>\n",
       "      <th>amax_champagne</th>\n",
       "      <th>amax_vodka</th>\n",
       "      <th>amax_wine</th>\n",
       "      <th>...</th>\n",
       "      <th>median_beer</th>\n",
       "      <th>median_brandy</th>\n",
       "      <th>median_champagne</th>\n",
       "      <th>median_vodka</th>\n",
       "      <th>median_wine</th>\n",
       "      <th>std_beer</th>\n",
       "      <th>std_brandy</th>\n",
       "      <th>std_champagne</th>\n",
       "      <th>std_vodka</th>\n",
       "      <th>std_wine</th>\n",
       "    </tr>\n",
       "  </thead>\n",
       "  <tbody>\n",
       "    <tr>\n",
       "      <th>feature_1</th>\n",
       "      <td>0.175428</td>\n",
       "      <td>0.247475</td>\n",
       "      <td>0.236902</td>\n",
       "      <td>0.253246</td>\n",
       "      <td>0.217676</td>\n",
       "      <td>0.162063</td>\n",
       "      <td>0.253313</td>\n",
       "      <td>0.244957</td>\n",
       "      <td>0.226201</td>\n",
       "      <td>0.179077</td>\n",
       "      <td>...</td>\n",
       "      <td>0.170584</td>\n",
       "      <td>0.236051</td>\n",
       "      <td>0.240948</td>\n",
       "      <td>0.243306</td>\n",
       "      <td>0.201791</td>\n",
       "      <td>0.128194</td>\n",
       "      <td>0.240484</td>\n",
       "      <td>0.207818</td>\n",
       "      <td>0.123960</td>\n",
       "      <td>0.113789</td>\n",
       "    </tr>\n",
       "    <tr>\n",
       "      <th>feature_2</th>\n",
       "      <td>-0.192833</td>\n",
       "      <td>0.232658</td>\n",
       "      <td>0.238262</td>\n",
       "      <td>-0.138610</td>\n",
       "      <td>-0.110735</td>\n",
       "      <td>-0.274479</td>\n",
       "      <td>0.136853</td>\n",
       "      <td>0.138882</td>\n",
       "      <td>-0.187639</td>\n",
       "      <td>-0.237334</td>\n",
       "      <td>...</td>\n",
       "      <td>-0.174729</td>\n",
       "      <td>0.220720</td>\n",
       "      <td>0.227620</td>\n",
       "      <td>-0.146341</td>\n",
       "      <td>-0.122641</td>\n",
       "      <td>-0.270426</td>\n",
       "      <td>0.090797</td>\n",
       "      <td>0.016130</td>\n",
       "      <td>-0.176319</td>\n",
       "      <td>-0.300835</td>\n",
       "    </tr>\n",
       "    <tr>\n",
       "      <th>feature_3</th>\n",
       "      <td>-0.400981</td>\n",
       "      <td>0.040883</td>\n",
       "      <td>-0.087718</td>\n",
       "      <td>0.053389</td>\n",
       "      <td>0.203603</td>\n",
       "      <td>-0.320756</td>\n",
       "      <td>0.097614</td>\n",
       "      <td>0.036259</td>\n",
       "      <td>0.033962</td>\n",
       "      <td>0.238102</td>\n",
       "      <td>...</td>\n",
       "      <td>-0.391899</td>\n",
       "      <td>0.020680</td>\n",
       "      <td>-0.124140</td>\n",
       "      <td>0.053806</td>\n",
       "      <td>0.241396</td>\n",
       "      <td>-0.278992</td>\n",
       "      <td>0.194644</td>\n",
       "      <td>0.164043</td>\n",
       "      <td>-0.045556</td>\n",
       "      <td>0.278009</td>\n",
       "    </tr>\n",
       "    <tr>\n",
       "      <th>feature_4</th>\n",
       "      <td>-0.100073</td>\n",
       "      <td>0.019885</td>\n",
       "      <td>0.037757</td>\n",
       "      <td>0.116164</td>\n",
       "      <td>-0.349297</td>\n",
       "      <td>0.051199</td>\n",
       "      <td>0.084704</td>\n",
       "      <td>0.166135</td>\n",
       "      <td>0.269101</td>\n",
       "      <td>-0.271551</td>\n",
       "      <td>...</td>\n",
       "      <td>-0.111987</td>\n",
       "      <td>0.085063</td>\n",
       "      <td>0.028615</td>\n",
       "      <td>0.077637</td>\n",
       "      <td>-0.353270</td>\n",
       "      <td>0.151740</td>\n",
       "      <td>0.140719</td>\n",
       "      <td>0.276904</td>\n",
       "      <td>0.359633</td>\n",
       "      <td>-0.193074</td>\n",
       "    </tr>\n",
       "  </tbody>\n",
       "</table>\n",
       "<p>4 rows × 25 columns</p>\n",
       "</div>"
      ],
      "text/plain": [
       "           mean_beer  mean_brandy  mean_champagne  mean_vodka  mean_wine  \\\n",
       "feature_1   0.175428     0.247475        0.236902    0.253246   0.217676   \n",
       "feature_2  -0.192833     0.232658        0.238262   -0.138610  -0.110735   \n",
       "feature_3  -0.400981     0.040883       -0.087718    0.053389   0.203603   \n",
       "feature_4  -0.100073     0.019885        0.037757    0.116164  -0.349297   \n",
       "\n",
       "           amax_beer  amax_brandy  amax_champagne  amax_vodka  amax_wine  ...  \\\n",
       "feature_1   0.162063     0.253313        0.244957    0.226201   0.179077  ...   \n",
       "feature_2  -0.274479     0.136853        0.138882   -0.187639  -0.237334  ...   \n",
       "feature_3  -0.320756     0.097614        0.036259    0.033962   0.238102  ...   \n",
       "feature_4   0.051199     0.084704        0.166135    0.269101  -0.271551  ...   \n",
       "\n",
       "           median_beer  median_brandy  median_champagne  median_vodka  \\\n",
       "feature_1     0.170584       0.236051          0.240948      0.243306   \n",
       "feature_2    -0.174729       0.220720          0.227620     -0.146341   \n",
       "feature_3    -0.391899       0.020680         -0.124140      0.053806   \n",
       "feature_4    -0.111987       0.085063          0.028615      0.077637   \n",
       "\n",
       "           median_wine  std_beer  std_brandy  std_champagne  std_vodka  \\\n",
       "feature_1     0.201791  0.128194    0.240484       0.207818   0.123960   \n",
       "feature_2    -0.122641 -0.270426    0.090797       0.016130  -0.176319   \n",
       "feature_3     0.241396 -0.278992    0.194644       0.164043  -0.045556   \n",
       "feature_4    -0.353270  0.151740    0.140719       0.276904   0.359633   \n",
       "\n",
       "           std_wine  \n",
       "feature_1  0.113789  \n",
       "feature_2 -0.300835  \n",
       "feature_3  0.278009  \n",
       "feature_4 -0.193074  \n",
       "\n",
       "[4 rows x 25 columns]"
      ]
     },
     "execution_count": 199,
     "metadata": {},
     "output_type": "execute_result"
    }
   ],
   "source": [
    "pca_component_df = pd.DataFrame(pca.components_[:4], index=[f\"feature_{i}\" for i in range(1, 5)], columns = df_region_std.columns)\n",
    "pca_component_df"
   ]
  },
  {
   "cell_type": "markdown",
   "id": "45dd744c-02c0-4591-ba26-28b29c7ba211",
   "metadata": {},
   "source": [
    "To define KMeans, we should feed,\n",
    "\n",
    "- n_clusters - N_clusters defined, this case 4.\n",
    "\n",
    "- random_state - Make the results reproducible, and if you define an seed as int it will present always the same result.\n",
    "\n",
    "- max_iter - Usually I go with 1000, lower iteractions will make your model with low efficiency and higher iterations memory and time consumption it's a problem.\n",
    "\n",
    "- algorithm - we chose full that is a lloyd variation."
   ]
  },
  {
   "cell_type": "code",
   "execution_count": 130,
   "id": "a0677ede-a81a-4bc6-aacb-7de16585e900",
   "metadata": {
    "collapsed": true,
    "jupyter": {
     "outputs_hidden": true
    },
    "tags": []
   },
   "outputs": [
    {
     "name": "stderr",
     "output_type": "stream",
     "text": [
      "C:\\ProgramData\\Anaconda3\\lib\\site-packages\\sklearn\\utils\\validation.py:1688: FutureWarning: Feature names only support names that are all strings. Got feature names with dtypes: ['int', 'str']. An error will be raised in 1.2.\n",
      "  warnings.warn(\n",
      "C:\\ProgramData\\Anaconda3\\lib\\site-packages\\sklearn\\cluster\\_kmeans.py:1036: UserWarning: KMeans is known to have a memory leak on Windows with MKL, when there are less chunks than available threads. You can avoid it by setting the environment variable OMP_NUM_THREADS=1.\n",
      "  warnings.warn(\n"
     ]
    }
   ],
   "source": [
    "#Kmeans for 4 clusters\n",
    "kmeans_4 = KMeans(n_clusters = 4, random_state = 1, max_iter = 1000, algorithm=\"full\")\n",
    "\n",
    "#Fit the pca_df to the data\n",
    "kmeans_4.fit(pca_df)\n",
    "\n",
    "#Labeling regions with the cluster that we obtained.\n",
    "df_by_region[\"cluster\"] = kmeans_4.labels_\n",
    "pca_df[\"cluster\"] = kmeans_4.labels_\n",
    "\n",
    "#We want to check what was the cluster for St. Petersburg\n",
    "st_peter_cluster = int(pca_df.query(\"region == 'Saint Petersburg\")[\"cluster\"].values)"
   ]
  },
  {
   "cell_type": "markdown",
   "id": "5d61b6e7-0123-49d2-bc8e-5c86bc7e888f",
   "metadata": {},
   "source": [
    "## Will we have 10 region in the same clusteer of St. Petersburg ?\n",
    "\n",
    "To simplify the method, we wil check if we have at least 10 regions in the St. Petersburg cluster.\n",
    "\n",
    "If so, we only we work with this one."
   ]
  },
  {
   "cell_type": "code",
   "execution_count": 159,
   "id": "5e242157-8530-49eb-a6ea-58cc6d04547b",
   "metadata": {
    "tags": []
   },
   "outputs": [
    {
     "data": {
      "text/plain": [
       "17"
      ]
     },
     "execution_count": 159,
     "metadata": {},
     "output_type": "execute_result"
    }
   ],
   "source": [
    "# Regions that belong to the ST.Petersburg Cluster\n",
    "df_same_cluster = pca_df.query(\"cluster == @st_peter_cluster\")\n",
    "len(df_same_cluster)"
   ]
  },
  {
   "cell_type": "markdown",
   "id": "b7f0cf49-0ad9-47a3-a180-8dc2b979d090",
   "metadata": {},
   "source": [
    "So we have 17 regions in cluster number 3 the one with St.Petersburg.\n",
    "\n",
    "So, we will only calculate the distance for the 16 regions to St. Petersburg.\n",
    "\n",
    "First thing is to find St.Petersburg Coordinates and next proceed to the Euclidean Distance."
   ]
  },
  {
   "cell_type": "code",
   "execution_count": 206,
   "id": "dfc79287-b282-4744-b8dd-7bc817571f0e",
   "metadata": {},
   "outputs": [
    {
     "name": "stderr",
     "output_type": "stream",
     "text": [
      "C:\\Users\\alvar\\AppData\\Local\\Temp/ipykernel_16408/2065577188.py:8: SettingWithCopyWarning: \n",
      "A value is trying to be set on a copy of a slice from a DataFrame.\n",
      "Try using .loc[row_indexer,col_indexer] = value instead\n",
      "\n",
      "See the caveats in the documentation: https://pandas.pydata.org/pandas-docs/stable/user_guide/indexing.html#returning-a-view-versus-a-copy\n",
      "  df_same_cluster[\"distance\"] = np.array(distance_array)\n"
     ]
    }
   ],
   "source": [
    "\n",
    "st_peter_x, st_peter_y = df_same_cluster.query(\"region == 'Saint Petersburg'\")[[1, 2]].values.flatten()\n",
    "distance_array = []\n",
    "\n",
    "#Iterate over the 16 rows left with (x,y) coordinates\n",
    "for x, y in zip(df_same_cluster[1], df_same_cluster[2]):\n",
    "    distance = (x-st_peter_x)**2 + (y-st_peter_y)**2\n",
    "    distance_array.append(distance)   \n",
    "df_same_cluster[\"distance\"] = np.array(distance_array)"
   ]
  },
  {
   "cell_type": "code",
   "execution_count": 207,
   "id": "0f43dd5d-f407-4ae9-9d59-94eacc643477",
   "metadata": {},
   "outputs": [
    {
     "name": "stderr",
     "output_type": "stream",
     "text": [
      "C:\\ProgramData\\Anaconda3\\lib\\site-packages\\pandas\\util\\_decorators.py:311: SettingWithCopyWarning: \n",
      "A value is trying to be set on a copy of a slice from a DataFrame\n",
      "\n",
      "See the caveats in the documentation: https://pandas.pydata.org/pandas-docs/stable/user_guide/indexing.html#returning-a-view-versus-a-copy\n",
      "  return func(*args, **kwargs)\n"
     ]
    },
    {
     "data": {
      "text/html": [
       "<div>\n",
       "<style scoped>\n",
       "    .dataframe tbody tr th:only-of-type {\n",
       "        vertical-align: middle;\n",
       "    }\n",
       "\n",
       "    .dataframe tbody tr th {\n",
       "        vertical-align: top;\n",
       "    }\n",
       "\n",
       "    .dataframe thead th {\n",
       "        text-align: right;\n",
       "    }\n",
       "</style>\n",
       "<table border=\"1\" class=\"dataframe\">\n",
       "  <thead>\n",
       "    <tr style=\"text-align: right;\">\n",
       "      <th></th>\n",
       "      <th>1</th>\n",
       "      <th>2</th>\n",
       "      <th>3</th>\n",
       "      <th>4</th>\n",
       "      <th>cluster</th>\n",
       "      <th>distance</th>\n",
       "    </tr>\n",
       "    <tr>\n",
       "      <th>region</th>\n",
       "      <th></th>\n",
       "      <th></th>\n",
       "      <th></th>\n",
       "      <th></th>\n",
       "      <th></th>\n",
       "      <th></th>\n",
       "    </tr>\n",
       "  </thead>\n",
       "  <tbody>\n",
       "    <tr>\n",
       "      <th>Saint Petersburg</th>\n",
       "      <td>5.479529</td>\n",
       "      <td>0.932415</td>\n",
       "      <td>-3.203642</td>\n",
       "      <td>-0.613288</td>\n",
       "      <td>3</td>\n",
       "      <td>0.000000</td>\n",
       "    </tr>\n",
       "    <tr>\n",
       "      <th>Sakhalin Oblast</th>\n",
       "      <td>5.082722</td>\n",
       "      <td>0.556565</td>\n",
       "      <td>2.012486</td>\n",
       "      <td>2.670133</td>\n",
       "      <td>3</td>\n",
       "      <td>0.298719</td>\n",
       "    </tr>\n",
       "    <tr>\n",
       "      <th>Leningrad Oblast</th>\n",
       "      <td>5.152411</td>\n",
       "      <td>0.430419</td>\n",
       "      <td>1.408669</td>\n",
       "      <td>0.973746</td>\n",
       "      <td>3</td>\n",
       "      <td>0.359006</td>\n",
       "    </tr>\n",
       "    <tr>\n",
       "      <th>Nenets Autonomous Okrug</th>\n",
       "      <td>6.277883</td>\n",
       "      <td>-0.155404</td>\n",
       "      <td>2.543594</td>\n",
       "      <td>1.679626</td>\n",
       "      <td>3</td>\n",
       "      <td>1.820717</td>\n",
       "    </tr>\n",
       "    <tr>\n",
       "      <th>Moscow Oblast</th>\n",
       "      <td>4.397366</td>\n",
       "      <td>-0.232296</td>\n",
       "      <td>0.117114</td>\n",
       "      <td>1.939301</td>\n",
       "      <td>3</td>\n",
       "      <td>2.527628</td>\n",
       "    </tr>\n",
       "    <tr>\n",
       "      <th>Kaliningrad Oblast</th>\n",
       "      <td>3.948914</td>\n",
       "      <td>0.279488</td>\n",
       "      <td>1.496405</td>\n",
       "      <td>-0.767593</td>\n",
       "      <td>3</td>\n",
       "      <td>2.769096</td>\n",
       "    </tr>\n",
       "    <tr>\n",
       "      <th>Yamalo-Nenets Autonomous Okrug</th>\n",
       "      <td>3.874861</td>\n",
       "      <td>0.328052</td>\n",
       "      <td>-1.747224</td>\n",
       "      <td>1.370767</td>\n",
       "      <td>3</td>\n",
       "      <td>2.940215</td>\n",
       "    </tr>\n",
       "    <tr>\n",
       "      <th>Khanty–Mansi Autonomous Okrug – Yugra</th>\n",
       "      <td>3.437430</td>\n",
       "      <td>0.468836</td>\n",
       "      <td>-1.339845</td>\n",
       "      <td>1.218267</td>\n",
       "      <td>3</td>\n",
       "      <td>4.385074</td>\n",
       "    </tr>\n",
       "    <tr>\n",
       "      <th>Khabarovsk Krai</th>\n",
       "      <td>3.403460</td>\n",
       "      <td>0.525254</td>\n",
       "      <td>-1.700552</td>\n",
       "      <td>1.212698</td>\n",
       "      <td>3</td>\n",
       "      <td>4.475844</td>\n",
       "    </tr>\n",
       "    <tr>\n",
       "      <th>Arkhangelsk Oblast</th>\n",
       "      <td>4.295602</td>\n",
       "      <td>-0.840900</td>\n",
       "      <td>1.772732</td>\n",
       "      <td>0.529319</td>\n",
       "      <td>3</td>\n",
       "      <td>4.546326</td>\n",
       "    </tr>\n",
       "    <tr>\n",
       "      <th>Murmansk Oblast</th>\n",
       "      <td>5.449369</td>\n",
       "      <td>3.087493</td>\n",
       "      <td>1.450665</td>\n",
       "      <td>-0.891101</td>\n",
       "      <td>3</td>\n",
       "      <td>4.645272</td>\n",
       "    </tr>\n",
       "  </tbody>\n",
       "</table>\n",
       "</div>"
      ],
      "text/plain": [
       "                                              1         2         3         4  \\\n",
       "region                                                                          \n",
       "Saint Petersburg                       5.479529  0.932415 -3.203642 -0.613288   \n",
       "Sakhalin Oblast                        5.082722  0.556565  2.012486  2.670133   \n",
       "Leningrad Oblast                       5.152411  0.430419  1.408669  0.973746   \n",
       "Nenets Autonomous Okrug                6.277883 -0.155404  2.543594  1.679626   \n",
       "Moscow Oblast                          4.397366 -0.232296  0.117114  1.939301   \n",
       "Kaliningrad Oblast                     3.948914  0.279488  1.496405 -0.767593   \n",
       "Yamalo-Nenets Autonomous Okrug         3.874861  0.328052 -1.747224  1.370767   \n",
       "Khanty–Mansi Autonomous Okrug – Yugra  3.437430  0.468836 -1.339845  1.218267   \n",
       "Khabarovsk Krai                        3.403460  0.525254 -1.700552  1.212698   \n",
       "Arkhangelsk Oblast                     4.295602 -0.840900  1.772732  0.529319   \n",
       "Murmansk Oblast                        5.449369  3.087493  1.450665 -0.891101   \n",
       "\n",
       "                                       cluster  distance  \n",
       "region                                                    \n",
       "Saint Petersburg                             3  0.000000  \n",
       "Sakhalin Oblast                              3  0.298719  \n",
       "Leningrad Oblast                             3  0.359006  \n",
       "Nenets Autonomous Okrug                      3  1.820717  \n",
       "Moscow Oblast                                3  2.527628  \n",
       "Kaliningrad Oblast                           3  2.769096  \n",
       "Yamalo-Nenets Autonomous Okrug               3  2.940215  \n",
       "Khanty–Mansi Autonomous Okrug – Yugra        3  4.385074  \n",
       "Khabarovsk Krai                              3  4.475844  \n",
       "Arkhangelsk Oblast                           3  4.546326  \n",
       "Murmansk Oblast                              3  4.645272  "
      ]
     },
     "execution_count": 207,
     "metadata": {},
     "output_type": "execute_result"
    }
   ],
   "source": [
    "# Getting the 10 most similar regions to Saint Petersburg\n",
    "df_same_cluster.sort_values(by=\"distance\", ascending=True, inplace=True)\n",
    "df_same_cluster[:11]"
   ]
  },
  {
   "cell_type": "markdown",
   "id": "54c439c1-d3e5-4719-8cf5-499841cca6d1",
   "metadata": {},
   "source": [
    "## Conclusion"
   ]
  },
  {
   "cell_type": "markdown",
   "id": "c662eb73-7b8c-4dcc-9ad6-0b3834a1996c",
   "metadata": {},
   "source": [
    "Looking to our Final DataSet we go with the firs ten after St.Petersburg values"
   ]
  },
  {
   "cell_type": "code",
   "execution_count": 218,
   "id": "02803e72-600f-489a-9773-bae074e0df41",
   "metadata": {
    "tags": []
   },
   "outputs": [
    {
     "data": {
      "text/plain": [
       "['Saint Petersburg',\n",
       " 'Sakhalin Oblast',\n",
       " 'Leningrad Oblast',\n",
       " 'Nenets Autonomous Okrug',\n",
       " 'Moscow Oblast',\n",
       " 'Kaliningrad Oblast',\n",
       " 'Yamalo-Nenets Autonomous Okrug',\n",
       " 'Khanty–Mansi Autonomous Okrug – Yugra',\n",
       " 'Khabarovsk Krai',\n",
       " 'Arkhangelsk Oblast',\n",
       " 'Murmansk Oblast']"
      ]
     },
     "execution_count": 218,
     "metadata": {},
     "output_type": "execute_result"
    }
   ],
   "source": [
    "[i for i in df_same_cluster.index[:11]]"
   ]
  }
 ],
 "metadata": {
  "kernelspec": {
   "display_name": "Python 3 (ipykernel)",
   "language": "python",
   "name": "python3"
  },
  "language_info": {
   "codemirror_mode": {
    "name": "ipython",
    "version": 3
   },
   "file_extension": ".py",
   "mimetype": "text/x-python",
   "name": "python",
   "nbconvert_exporter": "python",
   "pygments_lexer": "ipython3",
   "version": "3.8.12"
  }
 },
 "nbformat": 4,
 "nbformat_minor": 5
}
